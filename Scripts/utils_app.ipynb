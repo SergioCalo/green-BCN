{
 "cells": [
  {
   "cell_type": "code",
   "execution_count": 1,
   "metadata": {},
   "outputs": [],
   "source": [
    "def stats(G, path, path_w):\n",
    "    subG = G.subgraph(path)\n",
    "    print('Normal route: ')\n",
    "    print('total weight: ', subG.size(weight=\"weight\"))\n",
    "    print('total noise: ', subG.size(weight=\"noise\"))\n",
    "    print('total dist: ', subG.size(weight=\"dist\"))\n",
    "    print('total pollution: ', subG.size(weight=\"rang\"))\n",
    "    print('')\n",
    "    subG_w = G.subgraph(path_w)\n",
    "    print('Green route: ')\n",
    "    print('total weight: ', subG_w.size(weight=\"weight\"))\n",
    "    print('total noise: ', subG_w.size(weight=\"noise\"))\n",
    "    print('total dist: ', subG_w.size(weight=\"dist\"))\n",
    "    print('total pollution: ', subG_w.size(weight=\"rang\"))\n",
    "    print('_______________')\n",
    "    print('Improvement: ')\n",
    "    print('total weight: ', subG_w.size(weight=\"weight\")/subG.size(weight=\"weight\")*100, '%')\n",
    "    print('total noise: ', subG_w.size(weight=\"noise\")/subG.size(weight=\"noise\")*100, '%')\n",
    "    print('total dist: ', subG_w.size(weight=\"dist\")/subG.size(weight=\"dist\")*100, '%')\n",
    "    print('total pollution: ', subG_w.size(weight=\"rang\")/subG.size(weight=\"rang\")*100, '%')\n",
    "    imp_w = subG_w.size(weight=\"weight\")/subG.size(weight=\"weight\")*100\n",
    "    imp_d = subG_w.size(weight=\"dist\")/subG.size(weight=\"dist\")*100\n",
    "    imp_p =  subG_w.size(weight=\"rang\")/subG.size(weight=\"rang\")*100\n",
    "    imp_n = subG_w.size(weight=\"noise\")/subG.size(weight=\"noise\")*100\n",
    "    return imp_w, imp_d, imp_p, imp_n"
   ]
  },
  {
   "cell_type": "code",
   "execution_count": null,
   "metadata": {},
   "outputs": [],
   "source": [
    "def stats_alpha(alpha, from_node, to_node, verbose = 1):\n",
    "\n",
    "    def weight(row, alpha):\n",
    "        beta = 1 - alpha\n",
    "        return alpha * row.TOTAL_D + alpha * row.Rang + beta * row.LONGITUD\n",
    "    edges['weights'] = edges.apply (lambda row: weight(row, alpha), axis=1)\n",
    "    G = nx.Graph()\n",
    "    for i, edge in edges.iterrows():\n",
    "        G.add_edge(edge['FID_x'], edge['FID_y'], noise =  edge['TOTAL_D'], rang = edge['Rang'],  dist = edge['LONGITUD'], weight=edge['weights'])\n",
    "\n",
    "    path_w = nx.shortest_path(G,from_node,to_node, 'weight')\n",
    "    path = nx.shortest_path(G,from_node,to_node, 'dist')\n",
    "        \n",
    "    subG = G.subgraph(path)\n",
    "    subG_w = G.subgraph(path_w)\n",
    "    imp_w = subG_w.size(weight=\"weight\")/subG.size(weight=\"weight\")*100\n",
    "    imp_d = subG_w.size(weight=\"dist\")/subG.size(weight=\"dist\")*100\n",
    "    imp_p =  subG_w.size(weight=\"rang\")/subG.size(weight=\"rang\")*100\n",
    "    imp_n = subG_w.size(weight=\"noise\")/subG.size(weight=\"noise\")*100\n",
    "    \n",
    "    if verbose == 1:\n",
    "        print('Normal route: ')\n",
    "        print('total weight: ', subG.size(weight=\"weight\"))\n",
    "        print('total noise: ', subG.size(weight=\"noise\"))\n",
    "        print('total dist: ', subG.size(weight=\"dist\"))\n",
    "        print('total pollution: ', subG.size(weight=\"rang\"))\n",
    "        print('')\n",
    "        print('Green route: ')\n",
    "        print('total weight: ', subG_w.size(weight=\"weight\"))\n",
    "        print('total noise: ', subG_w.size(weight=\"noise\"))\n",
    "        print('total dist: ', subG_w.size(weight=\"dist\"))\n",
    "        print('total pollution: ', subG_w.size(weight=\"rang\"))\n",
    "        print('_______________')\n",
    "        print('Improvement: ')\n",
    "        print('total weight: ', subG_w.size(weight=\"weight\")/subG.size(weight=\"weight\")*100, '%')\n",
    "        print('total noise: ', subG_w.size(weight=\"noise\")/subG.size(weight=\"noise\")*100, '%')\n",
    "        print('total dist: ', subG_w.size(weight=\"dist\")/subG.size(weight=\"dist\")*100, '%')\n",
    "        print('total pollution: ', subG_w.size(weight=\"rang\")/subG.size(weight=\"rang\")*100, '%')\n",
    "    return imp_w, imp_d, imp_p, imp_n"
   ]
  }
 ],
 "metadata": {
  "kernelspec": {
   "display_name": "Python 3",
   "language": "python",
   "name": "python3"
  },
  "language_info": {
   "codemirror_mode": {
    "name": "ipython",
    "version": 3
   },
   "file_extension": ".py",
   "mimetype": "text/x-python",
   "name": "python",
   "nbconvert_exporter": "python",
   "pygments_lexer": "ipython3",
   "version": "3.8.5"
  }
 },
 "nbformat": 4,
 "nbformat_minor": 4
}
